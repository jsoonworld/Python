{
  "nbformat": 4,
  "nbformat_minor": 0,
  "metadata": {
    "colab": {
      "provenance": []
    },
    "kernelspec": {
      "name": "python3",
      "display_name": "Python 3"
    },
    "language_info": {
      "name": "python"
    }
  },
  "cells": [
    {
      "cell_type": "markdown",
      "source": [
        "#문제 1 \n",
        "\n",
        "#정수 N개의 합 (백준 15596)"
      ],
      "metadata": {
        "id": "9nVqDn_mDovR"
      }
    },
    {
      "cell_type": "code",
      "execution_count": 4,
      "metadata": {
        "colab": {
          "base_uri": "https://localhost:8080/"
        },
        "id": "xKehSOsbDN4P",
        "outputId": "402a2859-1826-49d6-d045-6db9879299f3"
      },
      "outputs": [
        {
          "output_type": "execute_result",
          "data": {
            "text/plain": [
              "55"
            ]
          },
          "metadata": {},
          "execution_count": 4
        }
      ],
      "source": [
        "#정수 n개가 주어졌을 때, n개의 합을 구하는 함수를 작성하시오.\n",
        "sum =0\n",
        "def solve(a):\n",
        "  global sum \n",
        "  for i in a:\n",
        "    sum +=i\n",
        "  return sum\n",
        "\n",
        "a= [1, 2, 3, 4, 5, 6, 7, 8, 9, 10]\n",
        "solve(a)\n",
        "\n",
        "    \n",
        "def solve(a):\n",
        "    return sum(a)\n",
        "    \n",
        "    \n",
        "  \n"
      ]
    },
    {
      "cell_type": "markdown",
      "source": [
        "#문제 2\n",
        "\n",
        "#셀프 넘버(백준 4673)"
      ],
      "metadata": {
        "id": "wv6OBFUiF24D"
      }
    },
    {
      "cell_type": "code",
      "source": [
        "def self_number(n):\n",
        "  digit = len(str(digit))\n",
        "  partition_list = []\n",
        "  \n",
        "  \n",
        "  \n",
        "\n",
        "\n",
        "\n",
        "\n"
      ],
      "metadata": {
        "colab": {
          "base_uri": "https://localhost:8080/"
        },
        "id": "0FQuJCExEtoP",
        "outputId": "d9a953d5-0feb-4461-9898-85ffafa7eb4b"
      },
      "execution_count": 6,
      "outputs": [
        {
          "output_type": "stream",
          "name": "stdout",
          "text": [
            "2\n"
          ]
        }
      ]
    },
    {
      "cell_type": "code",
      "source": [],
      "metadata": {
        "id": "HkyvXJRiH7EI"
      },
      "execution_count": null,
      "outputs": []
    }
  ]
}